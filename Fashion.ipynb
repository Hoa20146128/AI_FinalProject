{
  "nbformat": 4,
  "nbformat_minor": 0,
  "metadata": {
    "colab": {
      "provenance": [],
      "mount_file_id": "1SlY5TKORiihhDRSpIRtnBg8sSuD-2_8I",
      "authorship_tag": "ABX9TyMgiWyFewq9L/rz/1Nlc0yl",
      "include_colab_link": true
    },
    "kernelspec": {
      "name": "python3",
      "display_name": "Python 3"
    },
    "language_info": {
      "name": "python"
    }
  },
  "cells": [
    {
      "cell_type": "markdown",
      "metadata": {
        "id": "view-in-github",
        "colab_type": "text"
      },
      "source": [
        "<a href=\"https://colab.research.google.com/github/Hoa20146128/AI_FinalProject/blob/main/Fashion.ipynb\" target=\"_parent\"><img src=\"https://colab.research.google.com/assets/colab-badge.svg\" alt=\"Open In Colab\"/></a>"
      ]
    },
    {
      "cell_type": "code",
      "execution_count": null,
      "metadata": {
        "id": "KQV216qPDzWr"
      },
      "outputs": [],
      "source": [
        "# Khai báo và sử dụng các thư viện sau\n",
        "from sklearn.model_selection import train_test_split\n",
        "import matplotlib.pyplot as plt\n",
        "import os\n",
        "import numpy as np\n",
        "import tensorflow as tf\n",
        "from keras.utils import np_utils\n",
        "from keras.models import Sequential\n",
        "from keras.layers import Dense, Activation, Dropout, Conv2D, MaxPooling2D, Flatten\n",
        "from tensorflow.keras.optimizers import SGD, RMSprop\n",
        "from keras.callbacks import EarlyStopping, ModelCheckpoint\n",
        "from sklearn.utils import validation \n",
        "from sklearn import preprocessing\n",
        "from tensorflow.keras.utils import to_categorical\n",
        "from tensorflow.keras.models import load_model\n",
        "from tensorflow.keras.utils import load_img, img_to_array\n",
        "from tensorflow.keras.preprocessing.image import ImageDataGenerator"
      ]
    },
    {
      "cell_type": "code",
      "source": [
        "# Tạo ra class ImageDataGenerator để chỉnh sửa ảnh \n",
        "train_datagen=ImageDataGenerator(rescale=1./255, shear_range=0.2, zoom_range=0.2, horizontal_flip=True)"
      ],
      "metadata": {
        "id": "_eA6FEteFcIK"
      },
      "execution_count": null,
      "outputs": []
    },
    {
      "cell_type": "code",
      "source": [
        "# Tạo bộ dữ liệu training set\n",
        "training_set=train_datagen.flow_from_directory('/content/drive/MyDrive/AI/Final Project/Train',target_size=(150,150), batch_size=32, class_mode='categorical')"
      ],
      "metadata": {
        "colab": {
          "base_uri": "https://localhost:8080/"
        },
        "id": "MAsAtgfiFnaV",
        "outputId": "58f9ca03-5e1c-420e-b7dc-2b6e631a41e1"
      },
      "execution_count": null,
      "outputs": [
        {
          "output_type": "stream",
          "name": "stdout",
          "text": [
            "Found 347 images belonging to 4 classes.\n"
          ]
        }
      ]
    },
    {
      "cell_type": "code",
      "source": [
        "training_set.class_indices"
      ],
      "metadata": {
        "colab": {
          "base_uri": "https://localhost:8080/"
        },
        "id": "w39fpxK-IIML",
        "outputId": "2776dbb5-73e6-44e4-8522-4401ac195134"
      },
      "execution_count": null,
      "outputs": [
        {
          "output_type": "execute_result",
          "data": {
            "text/plain": [
              "{'Jackets': 0, 'Pants': 1, 'Shoes': 2, 'T-shirts': 3}"
            ]
          },
          "metadata": {},
          "execution_count": 4
        }
      ]
    },
    {
      "cell_type": "code",
      "source": [
        "# Tạo ra mạng CNN để train mô hình\n",
        "model=Sequential()\n",
        "# Tích chập 32 lần với mỗi lần là 3 hàng 3 cột\n",
        "model.add(Conv2D(32,(3,3), activation='relu', kernel_initializer='he_uniform', padding='same',input_shape=(150,150,3))) \n",
        "model.add(Conv2D(32,(3,3), activation='relu', kernel_initializer='he_uniform', padding='same'))\n",
        "# Lấy phần tử lớn nhất ở trong 2 hàng và 2 cột\n",
        "model.add(MaxPooling2D(2,2))\n",
        "# Tích chập 64 lần với mỗi lần là 3 hàng 3 cột\n",
        "model.add(Conv2D(64,(3,3), activation='relu', kernel_initializer='he_uniform', padding='same')) \n",
        "model.add(Conv2D(64,(3,3), activation='relu', kernel_initializer='he_uniform', padding='same'))\n",
        "# Lấy phần tử lớn nhất ở trong 2 hàng và 2 cột\n",
        "model.add(MaxPooling2D(2,2))\n",
        "# Tích chập 128 lần với mỗi lần là 3 hàng 3 cột\n",
        "model.add(Conv2D(128,(3,3), activation='relu', kernel_initializer='he_uniform', padding='same')) \n",
        "model.add(Conv2D(128,(3,3), activation='relu', kernel_initializer='he_uniform', padding='same'))\n",
        "# Lấy phần tử lớn nhất ở trong 2 hàng và 2 cột\n",
        "model.add(MaxPooling2D(2,2))\n",
        "# Duỗi thẳng dữ liệu \n",
        "model.add(Flatten())\n",
        "# Tạo lớp ẩn thứ nhất với 128 tín hiệu ra\n",
        "model.add(Dense(256,activation='relu',kernel_initializer='he_uniform'))\n",
        "model.add(Dropout(0.2))\n",
        "# Tạo lớp ẩn thứ hai với 3 tín hiệu ra\n",
        "model.add(Dense(4,activation='softmax'))\n",
        "model.summary()"
      ],
      "metadata": {
        "colab": {
          "base_uri": "https://localhost:8080/"
        },
        "id": "gGiJWzMXILRh",
        "outputId": "3f987113-1570-41e0-8f0a-3ed5d85c3090"
      },
      "execution_count": null,
      "outputs": [
        {
          "output_type": "stream",
          "name": "stdout",
          "text": [
            "Model: \"sequential\"\n",
            "_________________________________________________________________\n",
            " Layer (type)                Output Shape              Param #   \n",
            "=================================================================\n",
            " conv2d (Conv2D)             (None, 150, 150, 32)      896       \n",
            "                                                                 \n",
            " conv2d_1 (Conv2D)           (None, 150, 150, 32)      9248      \n",
            "                                                                 \n",
            " max_pooling2d (MaxPooling2D  (None, 75, 75, 32)       0         \n",
            " )                                                               \n",
            "                                                                 \n",
            " conv2d_2 (Conv2D)           (None, 75, 75, 64)        18496     \n",
            "                                                                 \n",
            " conv2d_3 (Conv2D)           (None, 75, 75, 64)        36928     \n",
            "                                                                 \n",
            " max_pooling2d_1 (MaxPooling  (None, 37, 37, 64)       0         \n",
            " 2D)                                                             \n",
            "                                                                 \n",
            " conv2d_4 (Conv2D)           (None, 37, 37, 128)       73856     \n",
            "                                                                 \n",
            " conv2d_5 (Conv2D)           (None, 37, 37, 128)       147584    \n",
            "                                                                 \n",
            " max_pooling2d_2 (MaxPooling  (None, 18, 18, 128)      0         \n",
            " 2D)                                                             \n",
            "                                                                 \n",
            " flatten (Flatten)           (None, 41472)             0         \n",
            "                                                                 \n",
            " dense (Dense)               (None, 256)               10617088  \n",
            "                                                                 \n",
            " dropout (Dropout)           (None, 256)               0         \n",
            "                                                                 \n",
            " dense_1 (Dense)             (None, 4)                 1028      \n",
            "                                                                 \n",
            "=================================================================\n",
            "Total params: 10,905,124\n",
            "Trainable params: 10,905,124\n",
            "Non-trainable params: 0\n",
            "_________________________________________________________________\n"
          ]
        }
      ]
    },
    {
      "cell_type": "code",
      "source": [
        "# Biên dịch \n",
        "model.compile(optimizer='adam',loss='categorical_crossentropy',metrics=['accuracy'])\n",
        "# Gán biến lại để vẽ đồ thị, với 100 lần học (epochs), mỗi lần học thì chỉ học␣128 dữ liệu (batch_size) \n",
        "history=model.fit(training_set,epochs=100,batch_size=32)\n",
        "\n",
        "# history = model.fit_generator(training_set,steps_per_epoch=3800//10,epochs=100,validation_steps=2200//10)"
      ],
      "metadata": {
        "colab": {
          "base_uri": "https://localhost:8080/"
        },
        "id": "FXPlS9tuIOqz",
        "outputId": "60a6eaa8-d1da-4b2d-d568-4bf9a8f24c91"
      },
      "execution_count": null,
      "outputs": [
        {
          "output_type": "stream",
          "name": "stdout",
          "text": [
            "Epoch 1/100\n",
            "11/11 [==============================] - 138s 13s/step - loss: 5.2401 - accuracy: 0.2133\n",
            "Epoch 2/100\n",
            "11/11 [==============================] - 62s 6s/step - loss: 1.3827 - accuracy: 0.2767\n",
            "Epoch 3/100\n",
            "11/11 [==============================] - 62s 6s/step - loss: 1.3275 - accuracy: 0.3343\n",
            "Epoch 4/100\n",
            "11/11 [==============================] - 62s 6s/step - loss: 1.1873 - accuracy: 0.4726\n",
            "Epoch 5/100\n",
            "11/11 [==============================] - 65s 6s/step - loss: 1.0241 - accuracy: 0.5620\n",
            "Epoch 6/100\n",
            "11/11 [==============================] - 63s 6s/step - loss: 0.9721 - accuracy: 0.6138\n",
            "Epoch 7/100\n",
            "11/11 [==============================] - 68s 6s/step - loss: 0.8507 - accuracy: 0.6369\n",
            "Epoch 8/100\n",
            "11/11 [==============================] - 62s 6s/step - loss: 0.8166 - accuracy: 0.6772\n",
            "Epoch 9/100\n",
            "11/11 [==============================] - 62s 6s/step - loss: 0.7481 - accuracy: 0.6888\n",
            "Epoch 10/100\n",
            "11/11 [==============================] - 65s 6s/step - loss: 0.7089 - accuracy: 0.7233\n",
            "Epoch 11/100\n",
            "11/11 [==============================] - 63s 6s/step - loss: 0.6723 - accuracy: 0.7378\n",
            "Epoch 12/100\n",
            "11/11 [==============================] - 63s 6s/step - loss: 0.5876 - accuracy: 0.7637\n",
            "Epoch 13/100\n",
            "11/11 [==============================] - 64s 6s/step - loss: 0.5622 - accuracy: 0.7867\n",
            "Epoch 14/100\n",
            "11/11 [==============================] - 63s 6s/step - loss: 0.5741 - accuracy: 0.7896\n",
            "Epoch 15/100\n",
            "11/11 [==============================] - 63s 6s/step - loss: 0.5735 - accuracy: 0.8127\n",
            "Epoch 16/100\n",
            "11/11 [==============================] - 65s 6s/step - loss: 0.5753 - accuracy: 0.7723\n",
            "Epoch 17/100\n",
            "11/11 [==============================] - 62s 6s/step - loss: 0.4697 - accuracy: 0.8069\n",
            "Epoch 18/100\n",
            "11/11 [==============================] - 62s 6s/step - loss: 0.4225 - accuracy: 0.8300\n",
            "Epoch 19/100\n",
            "11/11 [==============================] - 62s 6s/step - loss: 0.4164 - accuracy: 0.8473\n",
            "Epoch 20/100\n",
            "11/11 [==============================] - 63s 6s/step - loss: 0.3519 - accuracy: 0.8790\n",
            "Epoch 21/100\n",
            "11/11 [==============================] - 64s 6s/step - loss: 0.3407 - accuracy: 0.8847\n",
            "Epoch 22/100\n",
            "11/11 [==============================] - 62s 6s/step - loss: 0.2616 - accuracy: 0.9049\n",
            "Epoch 23/100\n",
            "11/11 [==============================] - 62s 6s/step - loss: 0.3197 - accuracy: 0.8847\n",
            "Epoch 24/100\n",
            "11/11 [==============================] - 63s 6s/step - loss: 0.2406 - accuracy: 0.9049\n",
            "Epoch 25/100\n",
            "11/11 [==============================] - 62s 6s/step - loss: 0.3129 - accuracy: 0.9049\n",
            "Epoch 26/100\n",
            "11/11 [==============================] - 62s 6s/step - loss: 0.2432 - accuracy: 0.9135\n",
            "Epoch 27/100\n",
            "11/11 [==============================] - 64s 6s/step - loss: 0.2395 - accuracy: 0.9020\n",
            "Epoch 28/100\n",
            "11/11 [==============================] - 63s 6s/step - loss: 0.3024 - accuracy: 0.8818\n",
            "Epoch 29/100\n",
            "11/11 [==============================] - 64s 6s/step - loss: 0.2840 - accuracy: 0.9078\n",
            "Epoch 30/100\n",
            "11/11 [==============================] - 63s 5s/step - loss: 0.2220 - accuracy: 0.9193\n",
            "Epoch 31/100\n",
            "11/11 [==============================] - 64s 6s/step - loss: 0.2439 - accuracy: 0.9193\n",
            "Epoch 32/100\n",
            "11/11 [==============================] - 63s 6s/step - loss: 0.1877 - accuracy: 0.9280\n",
            "Epoch 33/100\n",
            "11/11 [==============================] - 63s 6s/step - loss: 0.1539 - accuracy: 0.9452\n",
            "Epoch 34/100\n",
            "11/11 [==============================] - 64s 6s/step - loss: 0.1492 - accuracy: 0.9395\n",
            "Epoch 35/100\n",
            "11/11 [==============================] - 65s 6s/step - loss: 0.2093 - accuracy: 0.9308\n",
            "Epoch 36/100\n",
            "11/11 [==============================] - 62s 6s/step - loss: 0.1786 - accuracy: 0.9395\n",
            "Epoch 37/100\n",
            "11/11 [==============================] - 64s 6s/step - loss: 0.1286 - accuracy: 0.9625\n",
            "Epoch 38/100\n",
            "11/11 [==============================] - 63s 6s/step - loss: 0.1398 - accuracy: 0.9510\n",
            "Epoch 39/100\n",
            "11/11 [==============================] - 65s 6s/step - loss: 0.1257 - accuracy: 0.9452\n",
            "Epoch 40/100\n",
            "11/11 [==============================] - 62s 6s/step - loss: 0.1410 - accuracy: 0.9452\n",
            "Epoch 41/100\n",
            "11/11 [==============================] - 63s 6s/step - loss: 0.1316 - accuracy: 0.9597\n",
            "Epoch 42/100\n",
            "11/11 [==============================] - 63s 6s/step - loss: 0.1114 - accuracy: 0.9712\n",
            "Epoch 43/100\n",
            "11/11 [==============================] - 65s 6s/step - loss: 0.0959 - accuracy: 0.9712\n",
            "Epoch 44/100\n",
            "11/11 [==============================] - 62s 6s/step - loss: 0.0899 - accuracy: 0.9683\n",
            "Epoch 45/100\n",
            "11/11 [==============================] - 62s 6s/step - loss: 0.0602 - accuracy: 0.9827\n",
            "Epoch 46/100\n",
            "11/11 [==============================] - 63s 6s/step - loss: 0.0966 - accuracy: 0.9741\n",
            "Epoch 47/100\n",
            "11/11 [==============================] - 64s 6s/step - loss: 0.1539 - accuracy: 0.9654\n",
            "Epoch 48/100\n",
            "11/11 [==============================] - 62s 6s/step - loss: 0.0886 - accuracy: 0.9654\n",
            "Epoch 49/100\n",
            "11/11 [==============================] - 64s 6s/step - loss: 0.1161 - accuracy: 0.9654\n",
            "Epoch 50/100\n",
            "11/11 [==============================] - 63s 6s/step - loss: 0.0862 - accuracy: 0.9625\n",
            "Epoch 51/100\n",
            "11/11 [==============================] - 62s 6s/step - loss: 0.0634 - accuracy: 0.9827\n",
            "Epoch 52/100\n",
            "11/11 [==============================] - 62s 6s/step - loss: 0.0697 - accuracy: 0.9741\n",
            "Epoch 53/100\n",
            "11/11 [==============================] - 62s 6s/step - loss: 0.0365 - accuracy: 0.9885\n",
            "Epoch 54/100\n",
            "11/11 [==============================] - 64s 6s/step - loss: 0.0559 - accuracy: 0.9798\n",
            "Epoch 55/100\n",
            "11/11 [==============================] - 62s 6s/step - loss: 0.0770 - accuracy: 0.9827\n",
            "Epoch 56/100\n",
            "11/11 [==============================] - 62s 6s/step - loss: 0.0535 - accuracy: 0.9769\n",
            "Epoch 57/100\n",
            "11/11 [==============================] - 64s 6s/step - loss: 0.0353 - accuracy: 0.9942\n",
            "Epoch 58/100\n",
            "11/11 [==============================] - 62s 6s/step - loss: 0.0919 - accuracy: 0.9798\n",
            "Epoch 59/100\n",
            "11/11 [==============================] - 62s 6s/step - loss: 0.0806 - accuracy: 0.9712\n",
            "Epoch 60/100\n",
            "11/11 [==============================] - 63s 6s/step - loss: 0.0325 - accuracy: 0.9942\n",
            "Epoch 61/100\n",
            "11/11 [==============================] - 62s 6s/step - loss: 0.0736 - accuracy: 0.9769\n",
            "Epoch 62/100\n",
            "11/11 [==============================] - 62s 6s/step - loss: 0.1216 - accuracy: 0.9568\n",
            "Epoch 63/100\n",
            "11/11 [==============================] - 62s 6s/step - loss: 0.1080 - accuracy: 0.9539\n",
            "Epoch 64/100\n",
            "11/11 [==============================] - 63s 6s/step - loss: 0.2110 - accuracy: 0.9769\n",
            "Epoch 65/100\n",
            "11/11 [==============================] - 62s 6s/step - loss: 0.1353 - accuracy: 0.9625\n",
            "Epoch 66/100\n",
            "11/11 [==============================] - 62s 6s/step - loss: 0.1223 - accuracy: 0.9597\n",
            "Epoch 67/100\n",
            "11/11 [==============================] - 62s 6s/step - loss: 0.0641 - accuracy: 0.9827\n",
            "Epoch 68/100\n",
            "11/11 [==============================] - 62s 6s/step - loss: 0.0626 - accuracy: 0.9741\n",
            "Epoch 69/100\n",
            "11/11 [==============================] - 62s 6s/step - loss: 0.0853 - accuracy: 0.9712\n",
            "Epoch 70/100\n",
            "11/11 [==============================] - 62s 6s/step - loss: 0.1100 - accuracy: 0.9741\n",
            "Epoch 71/100\n",
            "11/11 [==============================] - 62s 6s/step - loss: 0.0755 - accuracy: 0.9769\n",
            "Epoch 72/100\n",
            "11/11 [==============================] - 62s 6s/step - loss: 0.0461 - accuracy: 0.9827\n",
            "Epoch 73/100\n",
            "11/11 [==============================] - 64s 6s/step - loss: 0.0590 - accuracy: 0.9827\n",
            "Epoch 74/100\n",
            "11/11 [==============================] - 63s 6s/step - loss: 0.1151 - accuracy: 0.9856\n",
            "Epoch 75/100\n",
            "11/11 [==============================] - 63s 6s/step - loss: 0.0864 - accuracy: 0.9712\n",
            "Epoch 76/100\n",
            "11/11 [==============================] - 64s 6s/step - loss: 0.0638 - accuracy: 0.9769\n",
            "Epoch 77/100\n",
            "11/11 [==============================] - 62s 6s/step - loss: 0.0849 - accuracy: 0.9741\n",
            "Epoch 78/100\n",
            "11/11 [==============================] - 64s 6s/step - loss: 0.0359 - accuracy: 0.9856\n",
            "Epoch 79/100\n",
            "11/11 [==============================] - 63s 6s/step - loss: 0.0324 - accuracy: 0.9942\n",
            "Epoch 80/100\n",
            "11/11 [==============================] - 62s 6s/step - loss: 0.1186 - accuracy: 0.9683\n",
            "Epoch 81/100\n",
            "11/11 [==============================] - 62s 6s/step - loss: 0.1043 - accuracy: 0.9683\n",
            "Epoch 82/100\n",
            "11/11 [==============================] - 62s 6s/step - loss: 0.0393 - accuracy: 0.9971\n",
            "Epoch 83/100\n",
            "11/11 [==============================] - 63s 6s/step - loss: 0.0364 - accuracy: 0.9971\n",
            "Epoch 84/100\n",
            "11/11 [==============================] - 61s 6s/step - loss: 0.0508 - accuracy: 0.9856\n",
            "Epoch 85/100\n",
            "11/11 [==============================] - 61s 6s/step - loss: 0.0402 - accuracy: 0.9798\n",
            "Epoch 86/100\n",
            "11/11 [==============================] - 62s 6s/step - loss: 0.0349 - accuracy: 0.9914\n",
            "Epoch 87/100\n",
            "11/11 [==============================] - 61s 6s/step - loss: 0.0184 - accuracy: 0.9942\n",
            "Epoch 88/100\n",
            "11/11 [==============================] - 63s 6s/step - loss: 0.0552 - accuracy: 0.9827\n",
            "Epoch 89/100\n",
            "11/11 [==============================] - 62s 6s/step - loss: 0.0482 - accuracy: 0.9856\n",
            "Epoch 90/100\n",
            "11/11 [==============================] - 64s 6s/step - loss: 0.0526 - accuracy: 0.9856\n",
            "Epoch 91/100\n",
            "11/11 [==============================] - 62s 6s/step - loss: 0.0452 - accuracy: 0.9798\n",
            "Epoch 92/100\n",
            "11/11 [==============================] - 62s 6s/step - loss: 0.0591 - accuracy: 0.9683\n",
            "Epoch 93/100\n",
            "11/11 [==============================] - 63s 6s/step - loss: 0.0859 - accuracy: 0.9769\n",
            "Epoch 94/100\n",
            "11/11 [==============================] - 62s 6s/step - loss: 0.0672 - accuracy: 0.9769\n",
            "Epoch 95/100\n",
            "11/11 [==============================] - 62s 6s/step - loss: 0.0367 - accuracy: 0.9914\n",
            "Epoch 96/100\n",
            "11/11 [==============================] - 62s 6s/step - loss: 0.0848 - accuracy: 0.9769\n",
            "Epoch 97/100\n",
            "11/11 [==============================] - 62s 6s/step - loss: 0.0726 - accuracy: 0.9798\n",
            "Epoch 98/100\n",
            "11/11 [==============================] - 62s 6s/step - loss: 0.0453 - accuracy: 0.9798\n",
            "Epoch 99/100\n",
            "11/11 [==============================] - 63s 5s/step - loss: 0.0488 - accuracy: 0.9798\n",
            "Epoch 100/100\n",
            "11/11 [==============================] - 63s 6s/step - loss: 0.0483 - accuracy: 0.9827\n"
          ]
        }
      ]
    },
    {
      "cell_type": "code",
      "source": [
        "# Đánh giá độ chính xác của mô hình \n",
        "Score=model.evaluate(training_set,verbose=0)\n",
        "print('Train Loss', Score[0])\n",
        "print('Train Accuracy', Score[1])"
      ],
      "metadata": {
        "colab": {
          "base_uri": "https://localhost:8080/"
        },
        "id": "AAbbBX9SJgsh",
        "outputId": "eacff70a-f0ab-48cf-c95d-16a9ecfa913c"
      },
      "execution_count": null,
      "outputs": [
        {
          "output_type": "stream",
          "name": "stdout",
          "text": [
            "Train Loss 0.022612016648054123\n",
            "Train Accuracy 0.9913544654846191\n"
          ]
        }
      ]
    },
    {
      "cell_type": "code",
      "source": [
        "# Vẽ đồ thị giữa số lần học (Epochs) và độ chính xác (Accuracy)\n",
        "accuracy = history.history['accuracy']\n",
        "loss = history.history['loss']\n",
        "epochs = range(len(accuracy))\n",
        "plt.plot(epochs, accuracy,'r', label = 'Training accuracy')\n",
        "plt.plot(epochs, loss, 'b', label = 'Training loss')\n",
        "plt.show()"
      ],
      "metadata": {
        "colab": {
          "base_uri": "https://localhost:8080/",
          "height": 430
        },
        "id": "gZWPU2ZHCgYj",
        "outputId": "46e1ae16-0c9d-456e-dd50-5a4b0a24a131"
      },
      "execution_count": null,
      "outputs": [
        {
          "output_type": "display_data",
          "data": {
            "text/plain": [
              "<Figure size 640x480 with 1 Axes>"
            ],
            "image/png": "[encoded data removed]"
          },
          "metadata": {}
        }
      ]
    },
    {
      "cell_type": "code",
      "source": [
        "# Lưu lại\n",
        "model.save(\"fashion.h5\")"
      ],
      "metadata": {
        "id": "PhSUfzdrCo0R"
      },
      "execution_count": null,
      "outputs": []
    },
    {
      "cell_type": "code",
      "source": [
        "# Tải mô hình \n",
        "model_CNN=load_model(\"fashion.h5\")"
      ],
      "metadata": {
        "id": "DHnJh9hCCwS4"
      },
      "execution_count": null,
      "outputs": []
    },
    {
      "cell_type": "code",
      "source": [
        "model.save('/content/drive/MyDrive/AI/Final Project/fashion.h5')"
      ],
      "metadata": {
        "id": "ED6kNfrvC1fX"
      },
      "execution_count": null,
      "outputs": []
    },
    {
      "cell_type": "code",
      "source": [],
      "metadata": {
        "id": "gQ7QoT-OTFFn"
      },
      "execution_count": null,
      "outputs": []
    }
  ]
}